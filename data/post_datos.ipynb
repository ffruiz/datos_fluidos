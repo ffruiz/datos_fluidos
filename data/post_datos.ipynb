{
 "cells": [
  {
   "cell_type": "code",
   "execution_count": 2,
   "id": "66e2c2b6",
   "metadata": {},
   "outputs": [],
   "source": [
    "import numpy as np\n",
    "import matplotlib.pyplot as plt"
   ]
  },
  {
   "cell_type": "code",
   "execution_count": 3,
   "id": "3058d85a",
   "metadata": {},
   "outputs": [],
   "source": [
    "##### tocar solo una vez #####\n",
    "# importar datos\n",
    "u=np.genfromtxt('data_11_16_2022/u.csv', delimiter=',')\n",
    "v=np.genfromtxt('data_11_16_2022/v.csv', delimiter=',')\n",
    "x=np.genfromtxt('data_11_16_2022/x.csv', delimiter=',')\n",
    "y=np.genfromtxt('data_11_16_2022/y.csv', delimiter=',')\n",
    "# ajustar tamanos\n",
    "u=np.transpose(u.reshape(127,2999,29), (0, 2, 1))\n",
    "v=np.transpose(v.reshape(127,2999,29), (0, 2, 1))\n",
    "x=np.transpose(x.reshape(127,29), (0, 1))\n",
    "y=np.transpose(y.reshape(127,29), (0, 1))\n",
    "##### aplicar constantes ¿?  <----\n",
    "c = 1         # en mm.\n",
    "t = 1/1000     # tiempo entre matrices en seg.\n",
    "\n",
    "u = u*c/t     # velocidades en u en mm/seg.\n",
    "v = v*c/t     # velocidades en v en mm/seg.\n",
    "x = x*c       # posiciones en x en mm.\n",
    "y = y*c       # posiciones en y en mm."
   ]
  }
 ],
 "metadata": {
  "kernelspec": {
   "display_name": "Python 3.7.9 64-bit",
   "language": "python",
   "name": "python3"
  },
  "language_info": {
   "codemirror_mode": {
    "name": "ipython",
    "version": 3
   },
   "file_extension": ".py",
   "mimetype": "text/x-python",
   "name": "python",
   "nbconvert_exporter": "python",
   "pygments_lexer": "ipython3",
   "version": "3.7.9"
  },
  "vscode": {
   "interpreter": {
    "hash": "e63ba49aebc988b646e1dbf99c75ebbbe79a20618136c52c827b2893e897d8ad"
   }
  }
 },
 "nbformat": 4,
 "nbformat_minor": 5
}
